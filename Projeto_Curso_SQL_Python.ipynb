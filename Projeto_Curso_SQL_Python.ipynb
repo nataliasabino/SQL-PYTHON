{
  "nbformat": 4,
  "nbformat_minor": 0,
  "metadata": {
    "colab": {
      "name": "Projeto Curso SQL Python.ipynb",
      "provenance": [],
      "authorship_tag": "ABX9TyOTGxXKospobRqGLY8QqUWx",
      "include_colab_link": true
    },
    "kernelspec": {
      "name": "python3",
      "display_name": "Python 3"
    },
    "language_info": {
      "name": "python"
    }
  },
  "cells": [
    {
      "cell_type": "markdown",
      "metadata": {
        "id": "view-in-github",
        "colab_type": "text"
      },
      "source": [
        "<a href=\"https://colab.research.google.com/github/sabinonatalia/SQL-PYTHON/blob/main/Projeto_Curso_SQL_Python.ipynb\" target=\"_parent\"><img src=\"https://colab.research.google.com/assets/colab-badge.svg\" alt=\"Open In Colab\"/></a>"
      ]
    },
    {
      "cell_type": "markdown",
      "source": [
        "### Projeto para exercitar os conhecimentos adquiridos no curso SQL com Python oferecido pelo [Data Viking](https://www.youtube.com/watch?v=gEBmqaa_IY8&list=PLLWTDkRZXQa88Opt03kzilhx_NGEYSfFt)."
      ],
      "metadata": {
        "id": "ozuD8pYIsOsr"
      }
    },
    {
      "cell_type": "markdown",
      "source": [
        "PROJETO PRÁTICO\n",
        "\n",
        "1.   Gerar informações\n",
        "2.   Criar uma tabela\n",
        "3.   Ordenar os valores\n",
        "4.   Salvar tabela\n"
      ],
      "metadata": {
        "id": "bjA4VkF-swGd"
      }
    },
    {
      "cell_type": "code",
      "source": [
        "# 1 - Gerar informações\n",
        "# Importe da biblioteca SQLite3\n",
        "import sqlite3\n"
      ],
      "metadata": {
        "id": "WqkE9kFLtO_J"
      },
      "execution_count": 1,
      "outputs": []
    },
    {
      "cell_type": "markdown",
      "source": [
        "[Documentação SQLite](https://docs.python.org/3/library/sqlite3.html)"
      ],
      "metadata": {
        "id": "axJ7aTvFtw93"
      }
    },
    {
      "cell_type": "code",
      "source": [
        "Conexao = sqlite3.connect('Banco_Dados')"
      ],
      "metadata": {
        "id": "JSur4Sp7t_bh"
      },
      "execution_count": 2,
      "outputs": []
    },
    {
      "cell_type": "code",
      "source": [
        "Cursor = Conexao.cursor()"
      ],
      "metadata": {
        "id": "QOr1y1gexayB"
      },
      "execution_count": 3,
      "outputs": []
    },
    {
      "cell_type": "code",
      "source": [
        "# 2 - Criar uma tabela\n",
        "Cursor.execute(\n",
        "    'CREATE TABLE Pessoas(Nome text, Data_Nasc text, Hobbies)'\n",
        ")\n",
        "\n",
        "Conexao.commit()"
      ],
      "metadata": {
        "id": "n0psedgpxg6x"
      },
      "execution_count": 4,
      "outputs": []
    },
    {
      "cell_type": "code",
      "source": [
        "Cursor.execute('INSERT INTO Pessoas VALUES (\"Maria\", \"13/10/1996\", \"Cantar\")')\n",
        "Cursor.execute('INSERT INTO Pessoas VALUES (\"Ana\", \"12/08/1996\", \"Cantar\")')\n",
        "Cursor.execute('INSERT INTO Pessoas VALUES (\"Bea\", \"20/10/1996\", \"Cantar\")')\n",
        "Cursor.execute('INSERT INTO Pessoas VALUES (\"Natalia\", \"11/02/1996\", \"Cantar\")')"
      ],
      "metadata": {
        "colab": {
          "base_uri": "https://localhost:8080/"
        },
        "id": "PEPuK864yOJY",
        "outputId": "577a6c66-f879-4459-a04a-73d8b21550b2"
      },
      "execution_count": 6,
      "outputs": [
        {
          "output_type": "execute_result",
          "data": {
            "text/plain": [
              "<sqlite3.Cursor at 0x7fbfd71d3ea0>"
            ]
          },
          "metadata": {},
          "execution_count": 6
        }
      ]
    },
    {
      "cell_type": "code",
      "source": [
        "# Consultando tabela\n",
        "Consulta = Cursor.execute('SELECT * FROM Pessoas').fetchall()\n",
        "\n",
        "for Linha in Consulta:\n",
        "  print(Linha)"
      ],
      "metadata": {
        "colab": {
          "base_uri": "https://localhost:8080/"
        },
        "id": "18HEGRSuzZ_-",
        "outputId": "f5f70406-8851-4570-db91-7b454c9136a4"
      },
      "execution_count": 7,
      "outputs": [
        {
          "output_type": "stream",
          "name": "stdout",
          "text": [
            "('Maria', '11/10/1996', 'Cantar')\n",
            "('Maria', '11/10/1996', 'Cantar')\n",
            "('Maria', '13/10/1996', 'Cantar')\n",
            "('Ana', '12/08/1996', 'Cantar')\n",
            "('Bea', '20/10/1996', 'Cantar')\n",
            "('Natalia', '11/02/1996', 'Cantar')\n"
          ]
        }
      ]
    },
    {
      "cell_type": "markdown",
      "source": [
        ""
      ],
      "metadata": {
        "id": "UDxsEW_lxgiY"
      }
    },
    {
      "cell_type": "code",
      "source": [
        "# 3- Ordenar os valores\n",
        "Consulta = Cursor.execute('SELECT * FROM Pessoas ORDER BY Data_Nasc, Nome').fetchall()\n",
        "for Linha in Consulta:\n",
        "  print(Linha)"
      ],
      "metadata": {
        "colab": {
          "base_uri": "https://localhost:8080/"
        },
        "id": "zr5ZI_Z7z2aX",
        "outputId": "1be4c4aa-6ddc-4872-8fa6-9da1fca31b37"
      },
      "execution_count": 8,
      "outputs": [
        {
          "output_type": "stream",
          "name": "stdout",
          "text": [
            "('Natalia', '11/02/1996', 'Cantar')\n",
            "('Maria', '11/10/1996', 'Cantar')\n",
            "('Maria', '11/10/1996', 'Cantar')\n",
            "('Ana', '12/08/1996', 'Cantar')\n",
            "('Maria', '13/10/1996', 'Cantar')\n",
            "('Bea', '20/10/1996', 'Cantar')\n"
          ]
        }
      ]
    },
    {
      "cell_type": "code",
      "source": [
        "# UPDATE em data de nascimento \n",
        "Consulta =  Cursor.execute('UPDATE Pessoas SET Data_Nasc = \"15/10/1996\" WHERE Data_Nasc IS \"11/10/1996\"').fetchall()\n"
      ],
      "metadata": {
        "id": "9kHceDiy0pxF"
      },
      "execution_count": 9,
      "outputs": []
    },
    {
      "cell_type": "code",
      "source": [
        "# Consulta pós update\n",
        "Consulta = Cursor.execute('SELECT * FROM Pessoas').fetchall()\n",
        "for Linha in Consulta:\n",
        "  print(Linha)"
      ],
      "metadata": {
        "colab": {
          "base_uri": "https://localhost:8080/"
        },
        "id": "Ln8UTans1tgk",
        "outputId": "aaa5ade7-f9cd-40fe-b66e-51cc0d339de1"
      },
      "execution_count": 10,
      "outputs": [
        {
          "output_type": "stream",
          "name": "stdout",
          "text": [
            "('Maria', '15/10/1996', 'Cantar')\n",
            "('Maria', '15/10/1996', 'Cantar')\n",
            "('Maria', '13/10/1996', 'Cantar')\n",
            "('Ana', '12/08/1996', 'Cantar')\n",
            "('Bea', '20/10/1996', 'Cantar')\n",
            "('Natalia', '11/02/1996', 'Cantar')\n"
          ]
        }
      ]
    },
    {
      "cell_type": "code",
      "source": [
        "# Delete\n",
        "Consulta = Cursor.execute('DELETE from Pessoas WHERE Nome = \"Maria\"').fetchall()\n"
      ],
      "metadata": {
        "id": "jfLuHghd2u_i"
      },
      "execution_count": 11,
      "outputs": []
    },
    {
      "cell_type": "code",
      "source": [
        "# Consulta pós delete\n",
        "Consulta = Cursor.execute('SELECT * FROM Pessoas').fetchall()\n",
        "for Linha in Consulta:\n",
        "  print(Linha)"
      ],
      "metadata": {
        "colab": {
          "base_uri": "https://localhost:8080/"
        },
        "id": "NXyy7MBB3TJK",
        "outputId": "58facb14-f01f-4788-8a37-0a0d8b2e3c17"
      },
      "execution_count": 12,
      "outputs": [
        {
          "output_type": "stream",
          "name": "stdout",
          "text": [
            "('Ana', '12/08/1996', 'Cantar')\n",
            "('Bea', '20/10/1996', 'Cantar')\n",
            "('Natalia', '11/02/1996', 'Cantar')\n"
          ]
        }
      ]
    },
    {
      "cell_type": "code",
      "source": [
        "# Criando uma nova tabela\n",
        "Consulta = Cursor.execute('CREATE TABLE Complemento (Idade real, Data_Nasc text)')\n",
        "\n",
        "Conexao.commit()"
      ],
      "metadata": {
        "id": "7STp1AqS3gA0"
      },
      "execution_count": 13,
      "outputs": []
    },
    {
      "cell_type": "code",
      "source": [
        "# Inserindo valores na tabela nova\n",
        "Cursor.execute('INSERT INTO Complemento VALUES (20, \"12/08/1996\")')\n",
        "Cursor.execute('INSERT INTO Complemento VALUES (32, \"20/10/1996\")')\n",
        "Cursor.execute('INSERT INTO Complemento VALUES (18, \"11/02/1996\")')"
      ],
      "metadata": {
        "colab": {
          "base_uri": "https://localhost:8080/"
        },
        "id": "oZi56F0a5RQV",
        "outputId": "d9d2ad2b-81ae-4f3e-c9fb-6d528689a31d"
      },
      "execution_count": 14,
      "outputs": [
        {
          "output_type": "execute_result",
          "data": {
            "text/plain": [
              "<sqlite3.Cursor at 0x7fbfd71d3ea0>"
            ]
          },
          "metadata": {},
          "execution_count": 14
        }
      ]
    },
    {
      "cell_type": "code",
      "source": [
        "# Verificando a tabela\n",
        "Consulta = Cursor.execute('SELECT * FROM Complemento').fetchall()\n",
        "\n",
        "for Linha in Consulta:\n",
        "  print(Linha)"
      ],
      "metadata": {
        "colab": {
          "base_uri": "https://localhost:8080/"
        },
        "id": "JpojO7l851ui",
        "outputId": "92c526b0-9768-4ef7-abfc-d665aafcd999"
      },
      "execution_count": 15,
      "outputs": [
        {
          "output_type": "stream",
          "name": "stdout",
          "text": [
            "(20.0, '12/08/1996')\n",
            "(32.0, '20/10/1996')\n",
            "(18.0, '11/02/1996')\n"
          ]
        }
      ]
    },
    {
      "cell_type": "code",
      "source": [
        "# Fazendo um inner join \n",
        "Consulta = Cursor.execute('SELECT * FROM Pessoas INNER JOIN Complemento ON Pessoas.Data_Nasc = Complemento.Data_Nasc').fetchall()\n",
        "\n",
        "for Linha in Consulta:\n",
        "  print(Linha)"
      ],
      "metadata": {
        "colab": {
          "base_uri": "https://localhost:8080/"
        },
        "id": "50o4lceq6OrL",
        "outputId": "9d89373a-ebce-4dff-b7c9-2962a985ae36"
      },
      "execution_count": 16,
      "outputs": [
        {
          "output_type": "stream",
          "name": "stdout",
          "text": [
            "('Ana', '12/08/1996', 'Cantar', 20.0, '12/08/1996')\n",
            "('Bea', '20/10/1996', 'Cantar', 32.0, '20/10/1996')\n",
            "('Natalia', '11/02/1996', 'Cantar', 18.0, '11/02/1996')\n"
          ]
        }
      ]
    },
    {
      "cell_type": "code",
      "source": [
        "# Fazendo um left join \n",
        "Cursor.execute('INSERT INTO Pessoas VALUES (\"João\", \"12/05/2006\", \"Ler\")')"
      ],
      "metadata": {
        "colab": {
          "base_uri": "https://localhost:8080/"
        },
        "id": "EO0tO2Y468KD",
        "outputId": "d097a504-9507-4815-baf0-1c2c1ff8ec12"
      },
      "execution_count": 18,
      "outputs": [
        {
          "output_type": "execute_result",
          "data": {
            "text/plain": [
              "<sqlite3.Cursor at 0x7fbfd71d3ea0>"
            ]
          },
          "metadata": {},
          "execution_count": 18
        }
      ]
    },
    {
      "cell_type": "code",
      "source": [
        "Consulta = Cursor.execute('SELECT * FROM Pessoas LEFT JOIN Complemento ON Pessoas.Data_Nasc = Complemento.Data_Nasc').fetchall()\n",
        "\n",
        "for Linha in Consulta:\n",
        "  print(Linha)"
      ],
      "metadata": {
        "colab": {
          "base_uri": "https://localhost:8080/"
        },
        "id": "wO7HRVG37bb5",
        "outputId": "0ac2599a-9fb8-4256-c366-8b015354a0da"
      },
      "execution_count": 19,
      "outputs": [
        {
          "output_type": "stream",
          "name": "stdout",
          "text": [
            "('Ana', '12/08/1996', 'Cantar', 20.0, '12/08/1996')\n",
            "('Bea', '20/10/1996', 'Cantar', 32.0, '20/10/1996')\n",
            "('Natalia', '11/02/1996', 'Cantar', 18.0, '11/02/1996')\n",
            "('João', '12/05/2006', 'Ler', None, None)\n"
          ]
        }
      ]
    }
  ]
}